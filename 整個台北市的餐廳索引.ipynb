{
 "cells": [
  {
   "cell_type": "code",
   "execution_count": 2,
   "id": "9bcb2e82",
   "metadata": {},
   "outputs": [],
   "source": [
    "import time\n",
    "import googlemaps\n",
    "import pandas as pd\n",
    "gmaps = googlemaps.Client(key='XXXXX')"
   ]
  },
  {
   "cell_type": "code",
   "execution_count": 3,
   "id": "065d98f6",
   "metadata": {},
   "outputs": [],
   "source": [
    "taipei_city=[\"信義區\",\"內湖區\",\"大安區\",\"北投區\",\"士林區\",\"中山區\",\"大同區\",\"松山區\",\"中正區\",\"萬華區\",\"文山區\",\"南港區\"]"
   ]
  },
  {
   "cell_type": "code",
   "execution_count": 7,
   "id": "c51e547b",
   "metadata": {},
   "outputs": [
    {
     "name": "stdout",
     "output_type": "stream",
     "text": [
      "以信義區為中心半徑2000公尺的餐廳完成!\n",
      "以內湖區為中心半徑2000公尺的餐廳完成!\n",
      "以大安區為中心半徑2000公尺的餐廳完成!\n",
      "以北投區為中心半徑2000公尺的餐廳完成!\n",
      "以士林區為中心半徑2000公尺的餐廳完成!\n",
      "以中山區為中心半徑2000公尺的餐廳完成!\n",
      "以大同區為中心半徑2000公尺的餐廳完成!\n",
      "以松山區為中心半徑2000公尺的餐廳完成!\n",
      "以中正區為中心半徑2000公尺的餐廳完成!\n",
      "以萬華區為中心半徑2000公尺的餐廳完成!\n",
      "以文山區為中心半徑2000公尺的餐廳完成!\n",
      "第一頁出錯\n",
      "第三頁出錯\n",
      "以南港區為中心半徑2000公尺的餐廳完成!\n"
     ]
    }
   ],
   "source": [
    "ids = []\n",
    "for area in taipei_city:\n",
    "    \n",
    "    # Geocoding an address\n",
    "    geocode_result = gmaps.geocode(area)\n",
    "    loc = geocode_result[0]['geometry']['location']\n",
    "    x=gmaps.places(type=\"restaurant\",location=loc, radius=2000)\n",
    "    \n",
    "    for place in gmaps.places(type=\"restaurant\",location=loc, radius=2000)['results']:\n",
    "        try :\n",
    "            columns=[area,place['name'],place['rating'],place['user_ratings_total'],place['formatted_address'],place['photos']]\n",
    "            ids.append(columns)\n",
    "        except : \n",
    "            print(\"第一頁出錯\")\n",
    "    time.sleep(2)\n",
    "    y=gmaps.places(page_token=x['next_page_token'])\n",
    "    for place in gmaps.places(page_token=x['next_page_token'])['results']:\n",
    "        try :\n",
    "            columns=[area,place['name'],place['rating'],place['user_ratings_total'],place['formatted_address'],place['photos']]\n",
    "            ids.append(columns)\n",
    "        except : \n",
    "            print(\"第二頁出錯\")\n",
    "    time.sleep(2)\n",
    "    for place in gmaps.places(page_token=y['next_page_token'])['results']:\n",
    "        try :\n",
    "            columns=[area,place['name'],place['rating'],place['user_ratings_total'],place['formatted_address'],place['photos']]\n",
    "            ids.append(columns)\n",
    "        except : \n",
    "            print(\"第三頁出錯\")\n",
    "    print(\"以\"+area+\"為中心半徑2000公尺的餐廳完成!\")\n",
    "    "
   ]
  },
  {
   "cell_type": "code",
   "execution_count": 1,
   "id": "8c06e2e7",
   "metadata": {},
   "outputs": [
    {
     "ename": "NameError",
     "evalue": "name 'pd' is not defined",
     "output_type": "error",
     "traceback": [
      "\u001b[1;31m---------------------------------------------------------------------------\u001b[0m",
      "\u001b[1;31mNameError\u001b[0m                                 Traceback (most recent call last)",
      "\u001b[1;32m<ipython-input-1-4fa396fb4b85>\u001b[0m in \u001b[0;36m<module>\u001b[1;34m\u001b[0m\n\u001b[1;32m----> 1\u001b[1;33m \u001b[0moutput\u001b[0m \u001b[1;33m=\u001b[0m \u001b[0mpd\u001b[0m\u001b[1;33m.\u001b[0m\u001b[0mDataFrame\u001b[0m\u001b[1;33m.\u001b[0m\u001b[0mfrom_dict\u001b[0m\u001b[1;33m(\u001b[0m\u001b[0mids\u001b[0m\u001b[1;33m)\u001b[0m\u001b[1;33m\u001b[0m\u001b[1;33m\u001b[0m\u001b[0m\n\u001b[0m\u001b[0;32m      2\u001b[0m \u001b[0moutput\u001b[0m\u001b[1;33m\u001b[0m\u001b[1;33m\u001b[0m\u001b[0m\n",
      "\u001b[1;31mNameError\u001b[0m: name 'pd' is not defined"
     ]
    }
   ],
   "source": [
    "output = pd.DataFrame.from_dict(ids)\n",
    "output"
   ]
  },
  {
   "cell_type": "code",
   "execution_count": 11,
   "id": "570cd49a",
   "metadata": {},
   "outputs": [],
   "source": [
    "output.columns = ['area','name','rating','total_rate','address','website']"
   ]
  },
  {
   "cell_type": "code",
   "execution_count": 12,
   "id": "2f0508e8",
   "metadata": {},
   "outputs": [],
   "source": [
    "output.to_csv('C:/Users/ASUS/Desktop/臺北市餐廳大全.csv',encoding='utf-8-sig',index=False)"
   ]
  },
  {
   "cell_type": "code",
   "execution_count": null,
   "id": "5d12824b",
   "metadata": {},
   "outputs": [],
   "source": []
  }
 ],
 "metadata": {
  "kernelspec": {
   "display_name": "Python 3",
   "language": "python",
   "name": "python3"
  },
  "language_info": {
   "codemirror_mode": {
    "name": "ipython",
    "version": 3
   },
   "file_extension": ".py",
   "mimetype": "text/x-python",
   "name": "python",
   "nbconvert_exporter": "python",
   "pygments_lexer": "ipython3",
   "version": "3.8.8"
  }
 },
 "nbformat": 4,
 "nbformat_minor": 5
}
